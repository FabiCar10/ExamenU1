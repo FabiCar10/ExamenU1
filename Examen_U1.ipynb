{
  "nbformat": 4,
  "nbformat_minor": 0,
  "metadata": {
    "colab": {
      "provenance": [],
      "authorship_tag": "ABX9TyNIVOMESdus9r1vWnr5ZvND",
      "include_colab_link": true
    },
    "kernelspec": {
      "name": "python3",
      "display_name": "Python 3"
    },
    "language_info": {
      "name": "python"
    }
  },
  "cells": [
    {
      "cell_type": "markdown",
      "metadata": {
        "id": "view-in-github",
        "colab_type": "text"
      },
      "source": [
        "<a href=\"https://colab.research.google.com/github/FabiCar10/ExamenU1/blob/main/Examen_U1.ipynb\" target=\"_parent\"><img src=\"https://colab.research.google.com/assets/colab-badge.svg\" alt=\"Open In Colab\"/></a>"
      ]
    },
    {
      "cell_type": "markdown",
      "source": [
        "# **Examen U1**\n",
        "\n",
        "**Alumna:** Karina Fabiola Carmona Terrzas\n",
        "**07 - LCD**"
      ],
      "metadata": {
        "id": "mnNJy8fwpXb8"
      }
    },
    {
      "cell_type": "markdown",
      "source": [
        "Ejercicio 1\n",
        "\n",
        "Es número primo?\n",
        "Verdad si es primo, falso si no es primo"
      ],
      "metadata": {
        "id": "CcYid77c2CRY"
      }
    },
    {
      "cell_type": "code",
      "source": [
        "def numPrimo(n):\n",
        "  for i in range(2, int(n/2)):\n",
        "    if(n%i) == 0:\n",
        "      return False\n",
        "  return True"
      ],
      "metadata": {
        "id": "abrJ8UUjvEUy"
      },
      "execution_count": 6,
      "outputs": []
    },
    {
      "cell_type": "code",
      "source": [
        "n = float (input(\"Ingrese el numero que desee: \"))\n",
        "resultado  = numPrimo(n)\n",
        "print(resultado)"
      ],
      "metadata": {
        "colab": {
          "base_uri": "https://localhost:8080/"
        },
        "id": "gls-uPBAzlnE",
        "outputId": "4e77219f-0ccd-452d-9fba-64cb642c4836"
      },
      "execution_count": 7,
      "outputs": [
        {
          "output_type": "stream",
          "name": "stdout",
          "text": [
            "Ingrese el numero que desee: 2\n",
            "True\n"
          ]
        }
      ]
    },
    {
      "cell_type": "markdown",
      "source": [
        "**Ejercicio 2:**\n",
        "\n",
        "next prime\n",
        "\n",
        "Encuentra y devuelve el primer número primo mayor que algún número entero, n."
      ],
      "metadata": {
        "id": "bB0B0TR_2gjw"
      }
    },
    {
      "cell_type": "code",
      "source": [
        "def nextPrime(n):\n",
        "    prime = n + 1\n",
        "    while True:\n",
        "        if numPrimo(prime):\n",
        "            return prime\n",
        "        prime += 1\n",
        "\n",
        "if __name__ == \"__main__\":\n",
        "    try:\n",
        "        n = int(input(\"Ingrese un número entero: \"))\n",
        "        next_prime = nextPrime(n)\n",
        "        print(f\"El primer número primo mayor que {n} es {next_prime}\")\n",
        "    except ValueError:\n",
        "        print(\"Por favor, ingrese un número entero válido.\")"
      ],
      "metadata": {
        "colab": {
          "base_uri": "https://localhost:8080/"
        },
        "id": "ZJpbigkK3fcZ",
        "outputId": "467bfb82-cf58-42e6-dcf9-052dfdc36e9d"
      },
      "execution_count": 13,
      "outputs": [
        {
          "output_type": "stream",
          "name": "stdout",
          "text": [
            "Ingrese un número entero: 10\n",
            "El primer número primo mayor que 10 es 11\n"
          ]
        }
      ]
    },
    {
      "cell_type": "markdown",
      "source": [
        "**Ejercicio 3:**\n",
        "\n",
        "Mediana de tres valores"
      ],
      "metadata": {
        "id": "pvXmiNDy9rGa"
      }
    },
    {
      "cell_type": "code",
      "source": [
        "def mediana(a,b,c):\n",
        "    lista = [a,b,c]\n",
        "    lista.sort()\n",
        "    return lista[1]\n"
      ],
      "metadata": {
        "id": "uf6eWDW69K5f"
      },
      "execution_count": 23,
      "outputs": []
    },
    {
      "cell_type": "code",
      "source": [
        "a = float (input(\"Ingrese el primer valor: \"))\n",
        "b = float (input(\"Ingrese el primer valor: \"))\n",
        "c = float (input(\"Ingrese el primer valor: \"))\n",
        "\n",
        "resultado = mediana(a,b,c)\n",
        "print(resultado)\n"
      ],
      "metadata": {
        "colab": {
          "base_uri": "https://localhost:8080/"
        },
        "id": "xT0jpnV2_5Au",
        "outputId": "14df7ff5-01fd-48ac-b973-b8d5ccd926ed"
      },
      "execution_count": 24,
      "outputs": [
        {
          "output_type": "stream",
          "name": "stdout",
          "text": [
            "Ingrese el primer valor: 10\n",
            "Ingrese el primer valor: 20\n",
            "Ingrese el primer valor: 30\n",
            "20.0\n"
          ]
        }
      ]
    },
    {
      "cell_type": "markdown",
      "source": [
        "**Ejercicio 4:**\n",
        "\n",
        "Contraseña aleatoria"
      ],
      "metadata": {
        "id": "GHIsNIvZE7pK"
      }
    },
    {
      "cell_type": "code",
      "source": [
        "import random\n",
        "import string\n",
        "\n",
        "def password():\n",
        "    longitud = random.randint(7, 10)\n",
        "    contraseña = ''.join(chr(random.randint(33, 126)) for _ in range(longitud))\n",
        "    return contraseña\n",
        "\n",
        "if __name__ == \"__main__\":\n",
        "    contraseña_generada = password()\n",
        "    print(f\"Contraseña generada: {contraseña_generada}\")\n"
      ],
      "metadata": {
        "colab": {
          "base_uri": "https://localhost:8080/"
        },
        "id": "RtW_33ew6nUe",
        "outputId": "4921f010-c4dc-4890-8224-b10b84d5970d"
      },
      "execution_count": 13,
      "outputs": [
        {
          "output_type": "stream",
          "name": "stdout",
          "text": [
            "Contraseña generada: _pmEU[w-\n"
          ]
        }
      ]
    },
    {
      "cell_type": "markdown",
      "source": [
        "**Ejercico 5:**\n",
        "\n",
        "Calocular la hipotenusa"
      ],
      "metadata": {
        "id": "Do9TsSCnPTpU"
      }
    },
    {
      "cell_type": "code",
      "source": [
        "from math import sqrt\n",
        "import math\n",
        "\n",
        "def hipotenusa(a,b):\n",
        "  return (math.sqrt((a**2) + (b**2)))"
      ],
      "metadata": {
        "id": "7v7KMuDtQasP"
      },
      "execution_count": 16,
      "outputs": []
    },
    {
      "cell_type": "code",
      "source": [
        "a = float(input(\"Introdusca el primer cateto: \"))\n",
        "b = float(input(\"Introdusca el segundo cateto:\"))\n",
        "\n",
        "resultado = hipotenusa(a,b)\n",
        "print(\"La hipotenusa es: \", resultado)"
      ],
      "metadata": {
        "colab": {
          "base_uri": "https://localhost:8080/"
        },
        "id": "9U1eXBlISZqf",
        "outputId": "8a823cd3-1676-43fd-d03c-d3ff1642d769"
      },
      "execution_count": 21,
      "outputs": [
        {
          "output_type": "stream",
          "name": "stdout",
          "text": [
            "Introdusca el primer cateto: 5\n",
            "Introdusca el segundo cateto:2\n",
            "La hipotenusa es:  5.385164807134504\n"
          ]
        }
      ]
    }
  ]
}